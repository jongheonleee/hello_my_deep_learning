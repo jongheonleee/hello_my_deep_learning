{
  "nbformat": 4,
  "nbformat_minor": 0,
  "metadata": {
    "colab": {
      "provenance": [],
      "gpuType": "T4"
    },
    "kernelspec": {
      "name": "python3",
      "display_name": "Python 3"
    },
    "language_info": {
      "name": "python"
    },
    "accelerator": "GPU"
  },
  "cells": [
    {
      "cell_type": "markdown",
      "source": [
        "# 1. 빙 이미지 검색으로 곰 이미지 분류 문제에 필요한 데이터를 다운로드 함\n"
      ],
      "metadata": {
        "id": "4yPFN8XR6SGV"
      }
    },
    {
      "cell_type": "code",
      "execution_count": null,
      "metadata": {
        "colab": {
          "base_uri": "https://localhost:8080/"
        },
        "id": "OIazEBkKzzR5",
        "outputId": "c7317886-2ecf-4976-da63-47e86e54e1f0"
      },
      "outputs": [
        {
          "output_type": "stream",
          "name": "stdout",
          "text": [
            "\u001b[2K   \u001b[90m━━━━━━━━━━━━━━━━━━━━━━━━━━━━━━━━━━━━━━━━\u001b[0m \u001b[32m719.8/719.8 kB\u001b[0m \u001b[31m4.5 MB/s\u001b[0m eta \u001b[36m0:00:00\u001b[0m\n",
            "\u001b[2K   \u001b[90m━━━━━━━━━━━━━━━━━━━━━━━━━━━━━━━━━━━━━━━━\u001b[0m \u001b[32m472.7/472.7 kB\u001b[0m \u001b[31m15.2 MB/s\u001b[0m eta \u001b[36m0:00:00\u001b[0m\n",
            "\u001b[2K   \u001b[90m━━━━━━━━━━━━━━━━━━━━━━━━━━━━━━━━━━━━━━━━\u001b[0m \u001b[32m116.3/116.3 kB\u001b[0m \u001b[31m6.5 MB/s\u001b[0m eta \u001b[36m0:00:00\u001b[0m\n",
            "\u001b[2K   \u001b[90m━━━━━━━━━━━━━━━━━━━━━━━━━━━━━━━━━━━━━━━━\u001b[0m \u001b[32m134.8/134.8 kB\u001b[0m \u001b[31m4.8 MB/s\u001b[0m eta \u001b[36m0:00:00\u001b[0m\n",
            "\u001b[2K   \u001b[90m━━━━━━━━━━━━━━━━━━━━━━━━━━━━━━━━━━━━━━━━\u001b[0m \u001b[32m194.1/194.1 kB\u001b[0m \u001b[31m12.1 MB/s\u001b[0m eta \u001b[36m0:00:00\u001b[0m\n",
            "\u001b[2K   \u001b[90m━━━━━━━━━━━━━━━━━━━━━━━━━━━━━━━━━━━━━━━━\u001b[0m \u001b[32m1.6/1.6 MB\u001b[0m \u001b[31m18.7 MB/s\u001b[0m eta \u001b[36m0:00:00\u001b[0m\n",
            "\u001b[?25hMounted at /content/gdrive\n"
          ]
        }
      ],
      "source": [
        "#hide\n",
        "! [ -e /content ] && pip install -Uqq fastbook\n",
        "import fastbook\n",
        "fastbook.setup_book()\n",
        "\n",
        "\n",
        "#hide\n",
        "from fastbook import *\n",
        "from fastai.vision.widgets import *\n",
        "\n",
        "# 빙 이미지 검색 서비스 api key 활용\n",
        "key = os.environ.get('AZURE_SEARCH_KEY', 'xxx(마이크로소프트의 빙 이미지 검색 서비스에서 발급한 API Key)')"
      ]
    },
    {
      "cell_type": "code",
      "source": [
        "search_images_bing # 책 저장소의 utils라는 파일이 제공하는 편의 기능"
      ],
      "metadata": {
        "colab": {
          "base_uri": "https://localhost:8080/",
          "height": 120
        },
        "id": "OgHSlbz2z483",
        "outputId": "72a3e950-5010-4b2f-d279-8b693ada6e93"
      },
      "execution_count": null,
      "outputs": [
        {
          "output_type": "execute_result",
          "data": {
            "text/plain": [
              "<function fastbook.search_images_bing(key, term, min_sz=128, max_images=150)>"
            ],
            "text/html": [
              "<div style=\"max-width:800px; border: 1px solid var(--colab-border-color);\"><style>\n",
              "      pre.function-repr-contents {\n",
              "        overflow-x: auto;\n",
              "        padding: 8px 12px;\n",
              "        max-height: 500px;\n",
              "      }\n",
              "\n",
              "      pre.function-repr-contents.function-repr-contents-collapsed {\n",
              "        cursor: pointer;\n",
              "        max-height: 100px;\n",
              "      }\n",
              "    </style>\n",
              "    <pre style=\"white-space: initial; background:\n",
              "         var(--colab-secondary-surface-color); padding: 8px 12px;\n",
              "         border-bottom: 1px solid var(--colab-border-color);\"><b>fastbook.search_images_bing</b><br/>def search_images_bing(key, term, min_sz=128, max_images=150)</pre><pre class=\"function-repr-contents function-repr-contents-collapsed\" style=\"\"><a class=\"filepath\" style=\"display:none\" href=\"#\">/usr/local/lib/python3.10/dist-packages/fastbook/__init__.py</a>&lt;no docstring&gt;</pre>\n",
              "      <script>\n",
              "      if (google.colab.kernel.accessAllowed && google.colab.files && google.colab.files.view) {\n",
              "        for (const element of document.querySelectorAll('.filepath')) {\n",
              "          element.style.display = 'block'\n",
              "          element.onclick = (event) => {\n",
              "            event.preventDefault();\n",
              "            event.stopPropagation();\n",
              "            google.colab.files.view(element.textContent, 46);\n",
              "          };\n",
              "        }\n",
              "      }\n",
              "      for (const element of document.querySelectorAll('.function-repr-contents')) {\n",
              "        element.onclick = (event) => {\n",
              "          event.preventDefault();\n",
              "          event.stopPropagation();\n",
              "          element.classList.toggle('function-repr-contents-collapsed');\n",
              "        };\n",
              "      }\n",
              "      </script>\n",
              "      </div>"
            ]
          },
          "metadata": {},
          "execution_count": 2
        }
      ]
    },
    {
      "cell_type": "code",
      "source": [
        "# 간단하게 함수 사용해보기\n",
        "# 회색곰 이미지 146장의 URL을 성공적으로 다운로드함\n",
        "results = search_images_bing(key, 'grizzly bear')\n",
        "ims = results.attrgot('contentUrl') # 책에서는 content_url로 되어 있는데, 'contentUrl'이렇게 써야함\n",
        "len(ims)\n",
        "print(ims)"
      ],
      "metadata": {
        "colab": {
          "base_uri": "https://localhost:8080/"
        },
        "id": "ETFsmOF70I71",
        "outputId": "d02be15e-02e9-450b-9c3b-b7d5d775763e"
      },
      "execution_count": null,
      "outputs": [
        {
          "output_type": "stream",
          "name": "stdout",
          "text": [
            "['http://2.bp.blogspot.com/-NjMTuklENdE/UHzVv_8dIxI/AAAAAAAAA-U/tNBsQDn8kFI/s1600/Grizzly+Bear+Pic.jpg', 'http://3.bp.blogspot.com/-S1scRCkI3vY/UHzV2kucsPI/AAAAAAAAA-k/YQ5UzHEm9Ss/s1600/Grizzly+Bear+Wildlife.jpg', 'https://d3d0lqu00lnqvz.cloudfront.net/media/media/897b2e5d-6d4c-40fa-bbe8-6829455747e2.jpg', 'https://cdn.britannica.com/19/186719-050-887A6F2C/Grizzly-bear-Rocky-Mountains-Wyoming.jpg', 'https://www.animalfactsencyclopedia.com/images/grizzlybearstanding.jpg', 'https://www.goodfreephotos.com/albums/animals/mammals/grizzly-bear-in-the-wild.jpg', 'https://animalcorner.org/wp-content/uploads/2015/02/grizzly-bear-1.jpg', 'http://animalfactguide.com/wp-content/uploads/2013/01/grizzlybear-2.jpg', 'https://www.wallpics.net/wp-content/uploads/2020/12/Grizzly-Bear-10.jpg', 'http://bearlegend.com/wp-content/uploads/2012/03/grizzlyBear_photofurl.jpeg', 'http://4.bp.blogspot.com/-3WcCGQ1bzJI/UXcshw5QEwI/AAAAAAAAIns/gfJpUVE0FK8/s1600/Grizzly-Bear-7.jpg', 'https://www.expeditionsalaska.com/wp-content/uploads/2017/04/16-brown-bear-photos-2377.jpg', 'https://cdn.britannica.com/18/161718-050-2DB34DD6/Grizzly-bear.jpg', 'https://jooinn.com/images/grizzly-bears-3.jpg', 'https://thelatebloomerhiker.files.wordpress.com/2014/11/grizzly-bear-22224-1920x1200.jpg', 'http://wallsdesk.com/wp-content/uploads/2017/01/Grizzly-Bear-Download.jpg', 'https://www.alloutdoor.com/wp-content/uploads/2019/08/Grizzly_Bear_Ursus_arctos_ssp..jpg', 'https://static01.nyt.com/images/2017/06/23/science/23GRIZZLY/23GRIZZLY-superJumbo.jpg', 'https://www.rwongphoto.com/images/xl/RW6844-2_web.jpg', 'https://external-preview.redd.it/bccjV-0WX40IgFdJ1FOy7_IE9nLPXR0wloCap7hXTSA.jpg?auto=webp&s=a17fd3832e57032a5b44af94010a189e4e906ea6', 'https://images.fineartamerica.com/images/artworkimages/mediumlarge/1/grizzly-bear-stephen-stookey.jpg', 'http://4.bp.blogspot.com/-UQtyDKqfnqU/UmAe7z7px7I/AAAAAAAAB60/BUaF-Ossa5I/s1600/Grizzly-Bear-Animals-Wallpaper.jpg', 'http://4.bp.blogspot.com/-2_RuGHXGm0Y/UQW3vwH37JI/AAAAAAAAEzc/Mt1seFmFrog/s1600/Grizzly-Bear-.jpg', 'http://images2.fanpop.com/image/photos/13100000/Grizzly-Bears-animals-13128534-1024-768.jpg', 'http://wallsdesk.com/wp-content/uploads/2017/01/Grizzly-Bear-HD.jpg', 'http://alaskagirlatheart.com/wp-content/uploads/2012/05/grizzly-1.jpg', 'https://cdn.wallpapersafari.com/10/50/JMKjz9.jpg', 'https://wallpaperset.com/w/full/2/1/2/49397.jpg', 'http://images2.fanpop.com/image/photos/13100000/Grizzly-Bears-animals-13128575-1024-768.jpg', 'http://wallsdesk.com/wp-content/uploads/2017/01/Grizzly-Bear-Computer-Wallpaper.jpg', 'https://www.wallpics.net/wp-content/uploads/2020/12/Grizzly-Bear.jpg', 'https://npr.brightspotcdn.com/dims4/default/dfd2fc6/2147483647/strip/true/crop/442x326+0+0/resize/1760x1298!/quality/90/?url=http:%2F%2Fnpr-brightspot.s3.amazonaws.com%2F80%2F96%2F9bbed5ac44ae89051e7f6f30fc7b%2Fca-grizzly-research-network.jpg', 'https://wallpapers.com/images/hd/grizzly-bear-pictures-2560-x-2048-o9hsfvsc9zfdzdu9.jpg', 'https://polarjournal.ch/wp-content/uploads/2021/05/GrizzlyBearJeanBeaufort.jpg', 'https://nypost.com/wp-content/uploads/sites/2/2014/09/bear1.jpg?quality=90&strip=all&w=1236&h=820&crop=1', 'https://www.washingtonpost.com/resizer/i6X-FE4FqlbaGDzh9CanT4YU99Y=/1440x0/smart/arc-anglerfish-washpost-prod-washpost.s3.amazonaws.com/public/2C55XVXHAE5FTHUGC726432CYU.jpg', 'https://bearizona.com/wp-content/uploads/2022/09/GD3A0309-1024x683.webp', 'https://www.montanaoutdoor.com/wp-content/uploads/2022/12/grizzlybearwolf.jpg', 'https://i1.wp.com/nypost.com/wp-content/uploads/sites/2/2020/05/grizzly-bear-57.jpg?quality=90&strip=all&ssl=1', 'https://upload.wikimedia.org/wikipedia/commons/thumb/7/71/2010-kodiak-bear-1.jpg/1200px-2010-kodiak-bear-1.jpg', 'https://wallpapers.com/images/file/grizzly-bear-pictures-npw5a2381bigbfqi.jpg', 'https://i.natgeofe.com/n/2abe83f4-7999-4ee0-8fa9-07330acdd30f/grizzly-bear_01.JPG', 'http://2.bp.blogspot.com/-p-QKKk3T8O0/UQN3a5YSALI/AAAAAAAAFcE/iTlNg3jee9A/s1600/Grizzly+Bear-2013-0pic-03.jpg', 'https://a-z-animals.com/media/Grizzly-Bear-Ursus-Arctos-Horriblis.jpg', 'http://bearlegend.com/wp-content/uploads/2012/04/2390661788_951acb14b8_o.jpg', 'https://lh6.googleusercontent.com/-eYTwmpP5wGk/TWxbf1W2_2I/AAAAAAAABLU/EmBSq3Wb5Eg/s1600/grizzly-bear.jpg', 'https://www.biologicaldiversity.org/assets/img/species/mammals/GrizzlyBearRobinSilver.jpg', 'https://a-z-animals.com/media/2021/07/Grizzly-Bear-e1652377327826.jpg', 'https://upload.wikimedia.org/wikipedia/commons/7/7e/Grolar.JPG', 'http://www.nwf.org/-/media/NEW-WEBSITE/Shared-Folder/Wildlife/Mammals/mammal_grizzy-bear_600x300.ashx', 'https://media.salon.com/2014/03/Grizzly-Bear-1900x1200.jpg', 'http://wallsdesk.com/wp-content/uploads/2017/01/Grizzly-Bear-for-desktop-background.jpg', 'https://wallup.net/wp-content/uploads/2016/01/96049-animals-bears-Grizzly_Bears.jpg', 'https://s3-assets.eastidahonews.com/wp-content/uploads/2015/10/03030033/0ad8593723.jpg', 'https://www.josephfiler.com/images/xl/Brown-Grizzly-Bear-Alaska-Cub-3060-Edit.jpg', 'https://d.newsweek.com/en/full/1890935/grizzly-bear.jpg', 'https://i.natgeofe.com/n/fd27a52c-bb78-41d7-8f48-fe08e991f0ed/05-grizzly-bear-yellowstone_3x4.jpg', 'https://4.bp.blogspot.com/-obzJVdiYxm8/USOj-JxlpJI/AAAAAAAAFBY/PNhZOEMJjcc/s1600/Grizzly_Bear_Info_Images+05.jpg', 'https://petapixel.com/assets/uploads/2023/03/grizzly-399-featured.jpg', 'https://www.publicdomainpictures.net/pictures/90000/velka/grizzly-bear-profile.jpg', 'http://wallpapercave.com/wp/ikP5YOo.jpg', 'https://tailandfur.com/wp-content/uploads/2016/10/20-Fun-Facts-about-Grizzly-Bears-3.jpg', 'https://cdni.rbth.com/rbthmedia/images/all/2016/10/07/grizzly_cp7ecp_b.jpg', 'https://wildlifesos.org/wp-content/uploads/2023/08/230722_Dachigam-jk-_Brpwn-bear_Sebastian_SOS01631-copy-1-scaled.jpg', 'https://d.newsweek.com/en/full/2082083/grizzly-bear.jpg', 'https://i.natgeofe.com/n/6f8dbce3-f729-4eaf-a912-74dbd519a453/grizzly-bear_thumb_3x2.JPG', 'https://defenders.org/sites/default/files/styles/meta_image/public/2019-04/grizzly_bear_sow_jim_peaco_nps_header.jpg?itok=vTdBffpn', 'https://www.lintelligencer.com/wp-content/uploads/2020/09/Alaska-Grizzly-kills-hunter-in-attack-at-national-park-Report.jpg', 'https://eskipaper.com/images/grizzly-bear-4.jpg', 'https://www.expeditionsalaska.com/wp-content/uploads/2016/09/12_sep9205.jpg', 'https://krebscreek.com/wp-content/uploads/2020/12/shutterstock_144478324-e1607404325677.jpg', 'https://www.mensjournal.com/.image/t_share/MjAwNjExODI4OTExMzE4Mzky/growling-grizzly-bear.jpg', 'https://www.outdoorlife.com/wp-content/uploads/2023/09/26/grizzly_bear_eating_elk_carcass.jpg', 'https://www.wildnatureimages.com/images/xl/160626-059-Grizzly-Bear-Cub.jpg', 'https://media.ktvb.com/assets/CCT/images/ced850cd-4952-47d5-8657-a69bcdc4ddeb/ced850cd-4952-47d5-8657-a69bcdc4ddeb_1140x641.jpg', 'https://i.pinimg.com/736x/ad/fb/14/adfb14fb9ac69294baa90017d134ea01--nature-animals-wild-animals.jpg', 'https://cms.qz.com/wp-content/uploads/2016/05/pizzlies_1.jpg?quality=75&strip=all&w=1600&h=900', 'https://st.depositphotos.com/1746939/1285/i/950/depositphotos_12855514-stock-photo-grizzly-bear.jpg', 'https://dailymontanan.com/wp-content/uploads/2023/10/grizzly-bear-1024x792-1.jpeg', 'https://people.com/thmb/ihZczvrdBKkUz1XA1wAHtmzcTyk=/1500x0/filters:no_upscale():max_bytes(150000):strip_icc():focal(749x0:751x2)/grizzly-bear-banff-tout-100223-ef86c64b15d64ec6a2417961bf80843b.jpg', 'https://hagadone.media.clients.ellingtoncms.com/img/photos/2023/09/29/brown-bear-8164838_1920_r1200x630.png?b7d505e466ff31ef2a911eceee85296b69915698', 'https://a-z-animals.com/media/2022/12/shutterstock_590795567.jpeg', 'https://d3d0lqu00lnqvz.cloudfront.net/media/media/0d6fe195-4729-4873-a17f-c136d2580df9.jpg', 'https://rangerrick.org/wp-content/uploads/2018/04/RRMAR13_6-11Grizzlies.jpg', 'https://a-z-animals.com/media/2021/07/Grizzly-Bear-1024x535.jpg', 'https://good-nature-blog-uploads.s3.amazonaws.com/uploads/2022/05/Grizzly-Bear.jpeg', 'http://media-cache-ec0.pinimg.com/736x/f5/70/78/f57078fcba2ae097645d094cc44496a5.jpg', 'https://bigskyrealestate.com/wp-content/uploads/DSC_1762-Edit-Edit-scaled.jpg', 'https://www.wallpics.net/wp-content/uploads/2020/12/Grizzly-Bear-Pictures.jpg', 'http://www1.cs.columbia.edu/~sedwards/photos/kyle200604/20060412-7108%20Grizzly%20bear.jpg', 'https://wallpapercave.com/wp/wp4087016.jpg', 'https://media.spokesman.com/photos/2018/08/18/Grizzly_Bears_Montana.JPG.jpg', 'https://npr.brightspotcdn.com/legacy/sites/wpr/files/201708/grizzly_bear-_sow_and_cubs__5728173840_.jpg', 'http://i.huffpost.com/gen/1227495/images/o-GRIZZLY-BEAR-facebook.jpg', 'https://freerangeamerican.us/wp-content/uploads/2021/08/BearSurvivalLEAD.jpg', 'https://mountainjournal.org/content/articles/ic_1676995482_780x_false.jpg', 'https://ourplnt.com/wp-content/uploads/2020/12/grizzly-bear.jpg', 'https://www.raincoast.org/wp-content/uploads/2023/08/Grizzly1_ConnorStefanison.jpg', 'http://grizzlybearwatching.com/wp-content/uploads/2015/12/Canada-copy.jpg', 'http://mediad.publicbroadcasting.net/p/kufm/files/styles/x_large/public/201512/grizzly-bear_PD.jpg', 'https://s.hdnux.com/photos/01/27/04/60/22826023/4/1200x0.jpg', 'https://eskipaper.com/images/grizzly-bear-pictures-2.jpg', 'https://i.natgeofe.com/n/b6f2bb1f-bb87-4a7b-9914-be22a04b3bc7/1bearcourt_4x3.jpg', 'https://a-z-animals.com/media/2022/09/iStock-1418503420-1024x683.jpg', 'https://eskipaper.com/images/pictures-of-grizzly-bears-8.jpg', 'https://s.hdnux.com/photos/01/32/07/32/23623324/3/1200x0.jpg', 'https://d.newsweek.com/en/full/2087078/grizzly-bear.jpg', 'https://a57.foxnews.com/static.foxnews.com/foxnews.com/content/uploads/2023/10/1200/675/grizzlybear-Idaho-FG.png?ve=1&tl=1', 'https://external-preview.redd.it/nhzeQJXHCFc7L0UauxzZgYncU_ijFJsDaE4wLgZYRXc.jpg?auto=webp&s=767fa6c1c6959d27e1b76aa3a2327faea89d9c1c', 'http://i.cbc.ca/1.3227503.1446859931!/cpImage/httpImage/image.jpg_gen/derivatives/16x9_1180/female-grizzly-bear.jpg', 'https://i.abcnewsfe.com/a/6e28b34e-12c4-4fc1-a160-eb7c5bc6b576/bear-yellowstone-ap-lv-230907_1694103380722_hpEmbed_21x16.jpg', 'https://media.hswstatic.com/eyJidWNrZXQiOiJjb250ZW50Lmhzd3N0YXRpYy5jb20iLCJrZXkiOiJnaWZcL21leGljYW4tZ3JpenpseS1iZWFyLWV4dGluY3Qtb3JpZy5qcGciLCJlZGl0cyI6eyJyZXNpemUiOnsid2lkdGgiOiIxMjAwIn19fQ==', 'http://3.bp.blogspot.com/-NuKxkdewP68/T5LpGACukII/AAAAAAAAFPw/9YPgZmXQzSs/s1600/grizzly-bear_grizzly-bear.jpg', 'https://mediad.publicbroadcasting.net/p/wpr/files/styles/x_large/public/201605/grizzly_2.jpg', 'https://www.gannett-cdn.com/-mm-/7e482a443740f52337eba28dff4794963c9ca5ad/c=0-307-2996-2000/local/-/media/2015/11/18/GreatFalls/B9319757334Z.1_20151118154515_000_G0OCJNNDA.1-0.jpg?width=3200&height=1680&fit=crop', 'https://www.victoriabuzz.com/wp-content/uploads/2019/05/P1011957.jpg', 'https://yellowstonebearworld.com/wp-content/uploads/2017/05/brown-bear-.jpg', 'http://www.famouscutouts.com/images/detailed/0/675-Bear.jpg', 'https://alaskatours.com/wp-content/uploads/2016/02/The-Bears-2-1.jpg', 'https://lh4.googleusercontent.com/-FPFwvbCEkhU/TWxbl15cu1I/AAAAAAAABLc/lHLLeSnUOXc/s1600/Grizzly-Bear-Roar.jpg', 'http://www.naturephoto-cz.com/fullsize/others/grizzly-bear-215324.jpg', 'https://worldanimalfoundation.org/wp-content/uploads/2023/02/Grizzly-Bear-review-2.jpg', 'https://hoshanarabbah.org/blog/wp-content/uploads/2016/05/Bear-Grizzly-AdobeStock_35310924.jpeg', 'https://www.treehugger.com/thmb/0R7WSIoyIaWxhCkF4E08EN_l21E=/1500x0/filters:no_upscale():max_bytes(150000):strip_icc()/GettyImages-479801869-d0f38f560c1049918fe2fe036385f463.jpg', 'https://wallpapercave.com/wp/wp2374991.jpg', 'http://4.bp.blogspot.com/-ocppOkj9hTc/UNMpyLQ-XCI/AAAAAAAAADU/SrOUp6pvTSA/s1600/grizzly+bear.jpg', 'https://therevelator.org/wp-content/uploads/2021/11/Grizzly-road-Jim-Peaco-NPS.jpg', 'https://wallpapercrafter.com/desktop7/1755985-grizzly-bear-bear-grizzly-montana-bozeman-montana.jpg', 'https://s3.wp.wsu.edu/uploads/sites/2797/2022/09/grizzly-bear-log.jpg', 'https://www.wallpaperflare.com/static/495/810/324/animals-bears-grizzly-bear-wallpaper.jpg', 'http://wallpaper.imcphoto.net/animals/grizzly-bear/giant-grizzly-bear.jpg', 'https://i.pinimg.com/originals/20/0e/41/200e4146d1b887a032191e965df4875c.jpg', 'https://4.bp.blogspot.com/-KliQsenmXqs/Un_rUjF4fII/AAAAAAAABUk/MAbB7TAbOrY/s1600/Grizzly_Bears.jpg', 'http://i.huffpost.com/gen/1347316/thumbs/o-GRIZZLY-BEAR-facebook.jpg', 'https://a-z-animals.com/media/2022/03/shutterstock_1858824328.jpg', 'http://upload.wikimedia.org/wikipedia/commons/e/e3/Grizzly_Bear_cubs.jpg', 'https://i.pinimg.com/originals/02/e9/a8/02e9a83289179fbacc902201bf0374bf.jpg', 'https://www.mensjournal.com/.image/t_share/MTk5MDA5NzMzNjMyMzM3Njgx/charging-grizzly-bear.jpg', 'https://www.jessleephotos.com/images/xl/Alaska-Brown-Bear-.jpg', 'https://wallpaperset.com/w/full/b/e/c/49458.jpg', 'https://e3.365dm.com/16/07/1600x900/grizzly-bear-1_3639350.jpg?20160706025813', 'http://bioexpedition.com/wp-content/uploads/2012/05/Grizzly_Bear_In_Alaska_600.jpg', 'https://i.natgeofe.com/n/08dfbe07-1b57-4081-a60c-1038a160584e/09-grizzly-bear-yellowstone_3x4.jpg', 'https://www.planetcustodian.com/wp-content/uploads/2021/04/pizzly_bear_1-768x511.jpg', 'https://assets2.cbsnewsstatic.com/hub/i/r/2023/03/08/60d7b07a-9f72-45e1-b28e-02c904b28aec/thumbnail/1200x630/525009b504f723662166120c1c9569aa/gettyimages-1216705608.jpg', 'http://1.bp.blogspot.com/-422rK0Kje1E/UQW3yELFQeI/AAAAAAAAEzs/Rcg4Gniz4rU/s1600/Grizzly-Bear-2.jpg']\n"
          ]
        }
      ]
    },
    {
      "cell_type": "code",
      "source": [
        "# 다운로드한 이미지 하나 확인해보기\n",
        "dest = 'images/grizzly.jpg'\n",
        "download_url(ims[0], dest)\n",
        "\n",
        "im = Image.open(dest)\n",
        "im.to_thumb(128, 128)"
      ],
      "metadata": {
        "colab": {
          "base_uri": "https://localhost:8080/",
          "height": 122
        },
        "id": "AGlwQ6qU0jDH",
        "outputId": "af946538-83c9-42fa-d419-63a09c3fc9f0"
      },
      "execution_count": null,
      "outputs": [
        {
          "output_type": "display_data",
          "data": {
            "text/plain": [
              "<IPython.core.display.HTML object>"
            ],
            "text/html": [
              "\n",
              "<style>\n",
              "    /* Turns off some styling */\n",
              "    progress {\n",
              "        /* gets rid of default border in Firefox and Opera. */\n",
              "        border: none;\n",
              "        /* Needs to be in here for Safari polyfill so background images work as expected. */\n",
              "        background-size: auto;\n",
              "    }\n",
              "    progress:not([value]), progress:not([value])::-webkit-progress-bar {\n",
              "        background: repeating-linear-gradient(45deg, #7e7e7e, #7e7e7e 10px, #5c5c5c 10px, #5c5c5c 20px);\n",
              "    }\n",
              "    .progress-bar-interrupted, .progress-bar-interrupted::-webkit-progress-bar {\n",
              "        background: #F44336;\n",
              "    }\n",
              "</style>\n"
            ]
          },
          "metadata": {}
        },
        {
          "output_type": "display_data",
          "data": {
            "text/plain": [
              "<IPython.core.display.HTML object>"
            ],
            "text/html": [
              "\n",
              "    <div>\n",
              "      <progress value='335872' class='' max='332689' style='width:300px; height:20px; vertical-align: middle;'></progress>\n",
              "      100.96% [335872/332689 00:00&lt;00:00]\n",
              "    </div>\n",
              "    "
            ]
          },
          "metadata": {}
        },
        {
          "output_type": "execute_result",
          "data": {
            "text/plain": [
              "<PIL.Image.Image image mode=RGB size=128x85>"
            ],
            "image/png": "[encoded data removed]",
            "image/jpeg": "[encoded data removed]"
          },
          "metadata": {},
          "execution_count": 13
        }
      ]
    },
    {
      "cell_type": "code",
      "source": [
        "# 각 검색어에서 얻은 모든 URL의 이미지를 fastai가 제공하는 download_images 함수로 다운로드\n",
        "# 검색어별 이미지는 검색어가 이름인 별도의 폴더에 저장하도록 만듦\n",
        "bear_types = 'grizzly', 'black', 'teddy'\n",
        "print(bear_types)\n",
        "\n",
        "path = Path('bears')\n",
        "\n",
        "if not path.exists():\n",
        "  path.mkdir()\n",
        "\n",
        "  for o in bear_types:\n",
        "    dest = (path/o)\n",
        "    dest.mkdir(exist_ok=True)\n",
        "    results = search_images_bing(key, f'{o} bear')\n",
        "    download_images(dest, urls=results.attrgot('contentUrl'))"
      ],
      "metadata": {
        "colab": {
          "base_uri": "https://localhost:8080/"
        },
        "id": "3SFBG_jm1A-Y",
        "outputId": "d4cc6e3a-17d7-4c23-8cf6-923a8af06e55"
      },
      "execution_count": null,
      "outputs": [
        {
          "output_type": "stream",
          "name": "stdout",
          "text": [
            "('grizzly', 'black', 'teddy')\n"
          ]
        }
      ]
    },
    {
      "cell_type": "code",
      "source": [
        "# 생성된 폴더와 이미지 파일 확인\n",
        "fns = get_image_files(path)\n",
        "fns"
      ],
      "metadata": {
        "colab": {
          "base_uri": "https://localhost:8080/"
        },
        "id": "x42XYKH72_hU",
        "outputId": "79e14ae8-1e51-49a2-971c-924033c6f20b"
      },
      "execution_count": null,
      "outputs": [
        {
          "output_type": "execute_result",
          "data": {
            "text/plain": [
              "(#411) [Path('bears/grizzly/706c3493-457d-4a61-93b3-90ef168090ca.jpg'),Path('bears/grizzly/f41fc783-ef50-45c3-a5f1-a12e0ffdbf0d.jpg'),Path('bears/grizzly/371d2a8f-c1f2-44cb-89da-7df46007871e.jpg'),Path('bears/grizzly/7eb9d911-6fea-429a-9428-23d1f211bc1a.jpg'),Path('bears/grizzly/6160563d-d94a-4727-80e3-9bf02bff7626.jpg'),Path('bears/grizzly/89df8eef-d222-46cb-ade3-4b4cd3faa415.jpg'),Path('bears/grizzly/eb01fcf8-6d49-4778-b9e0-06d908ccc033.jpg'),Path('bears/grizzly/ff80ff7b-682d-4c04-8e60-4519a4464737.jpg'),Path('bears/grizzly/e783e66e-fe9c-4526-a7a0-5e5f461f4912.jpg'),Path('bears/grizzly/e1830065-49e3-4548-8e13-96bab5eaacb8.jpg')...]"
            ]
          },
          "metadata": {},
          "execution_count": 15
        }
      ]
    },
    {
      "cell_type": "code",
      "source": [
        "# 파일의 오류 여부를 확인할 수 있는 vertify_images 함수\n",
        "failed = verify_images(fns)\n",
        "failed"
      ],
      "metadata": {
        "colab": {
          "base_uri": "https://localhost:8080/"
        },
        "id": "f0pGL6gd3H3X",
        "outputId": "f4dea956-4a93-4a26-8758-ccf5157c9ac2"
      },
      "execution_count": null,
      "outputs": [
        {
          "output_type": "execute_result",
          "data": {
            "text/plain": [
              "(#23) [Path('bears/grizzly/89df8eef-d222-46cb-ade3-4b4cd3faa415.jpg'),Path('bears/grizzly/5e6f6608-cceb-48ca-b56b-fc0b3986effa.JPG'),Path('bears/grizzly/cf395479-0b94-4c3d-8142-0c1418ed20a4.jpg'),Path('bears/grizzly/2a1b7738-3f31-4b9c-96a8-9da2a8a1301b.jpg'),Path('bears/grizzly/db9db94f-3d66-42f1-b626-1913e497322e.JPG'),Path('bears/grizzly/796181d4-6884-4337-bf95-10b01834916c.jpg'),Path('bears/grizzly/70d9eb61-88df-4855-999d-9d71b4447f86.jpg'),Path('bears/grizzly/357f7fa1-9156-4c94-869f-6659157cc5a8.jpg'),Path('bears/black/ae2438f3-5f45-4ae8-814c-b5f9839b1127.JPG'),Path('bears/black/35d87899-ef0c-4d87-b0f4-97b8f1ac5a9a.jpg')...]"
            ]
          },
          "metadata": {},
          "execution_count": 16
        }
      ]
    },
    {
      "cell_type": "code",
      "source": [
        "# 밑에 코드는 unlink 함수를 통해 오류가 발생한 파일(요소)를 삭제함\n",
        "failed.map(Path.unlink)"
      ],
      "metadata": {
        "colab": {
          "base_uri": "https://localhost:8080/"
        },
        "id": "awn0I_z83bCC",
        "outputId": "f60f0833-8fa9-421c-efa2-20a14722fcca"
      },
      "execution_count": null,
      "outputs": [
        {
          "output_type": "execute_result",
          "data": {
            "text/plain": [
              "(#23) [None,None,None,None,None,None,None,None,None,None...]"
            ]
          },
          "metadata": {},
          "execution_count": 17
        }
      ]
    },
    {
      "cell_type": "code",
      "source": [
        "# 주피터 노트북에서는 아래와 같은 유용한 점이 있음\n",
        "# 1. 각 함수의 결과를 즉각적으로 파악할 수 있음\n",
        "# 2. 코드 내부를 즉시 살펴보기 등 함수의 사용 방법을 알아보는데 유용한 여러 가지 기능을 제공함\n",
        "\n",
        "# 2번째 부분 진행\n",
        "??verify_images\n",
        "\n",
        "\"\"\"\n",
        "Signature: verify_images(fns)\n",
        "Source:\n",
        "def verify_images(fns):\n",
        "    \"Find images in `fns` that can't be opened\"\n",
        "    return L(fns[i] for i,o in enumerate(parallel(verify_image, fns)) if not o)\n",
        "File:      /usr/local/lib/python3.10/dist-packages/fastai/vision/utils.py\n",
        "Type:      function\n",
        "\"\"\""
      ],
      "metadata": {
        "colab": {
          "base_uri": "https://localhost:8080/",
          "height": 71
        },
        "id": "zhdDft6_3seh",
        "outputId": "5794babe-ed74-4307-a098-af13ba7d3297"
      },
      "execution_count": null,
      "outputs": [
        {
          "output_type": "execute_result",
          "data": {
            "text/plain": [
              "'\\nSignature: verify_images(fns)\\nSource:   \\ndef verify_images(fns):\\n    \"Find images in `fns` that can\\'t be opened\"\\n    return L(fns[i] for i,o in enumerate(parallel(verify_image, fns)) if not o)\\nFile:      /usr/local/lib/python3.10/dist-packages/fastai/vision/utils.py\\nType:      function\\n\\n'"
            ],
            "application/vnd.google.colaboratory.intrinsic+json": {
              "type": "string"
            }
          },
          "metadata": {},
          "execution_count": 22
        }
      ]
    },
    {
      "cell_type": "markdown",
      "source": [
        "## 📌 주피터 노트북에서 유용한 명령어\n",
        "\n",
        "#### 1. 함수나 인자의 정확한 철자가 기억나지 않는경우, 'Tab 키'를 눌러서 제안된 자동 완성 목록을 확인할 수 있음\n",
        "\n",
        "<br>\n",
        "\n",
        "#### 2. 함수의 괄호 안에서 'Shift 키'와 'Tab 키'를 동시에 누르면, 함수의 원형과 짧은 설명을 담은 팝업 창이 나타남. 이 키 조합을 연속으로 두 번 누르면 설명 문서의 내용이 확장되고, 세 번 누르면 팝업창 대신 별도의 창이 화면 하단에 나타남\n",
        "\n",
        "<br>\n",
        "\n",
        "#### 3. 셀에서 '?함수 이름'을 입력해 실행하면 함수의 원형과 짧은 설명을 담은 창이 화면 하단에 나타남\n",
        "\n",
        "<br>\n",
        "\n",
        "#### 4. 셀에서 '??함수 이름'을 실행하면 함수의 원형, 짧은 설명, 구현 코드를 담은 창이 화면 하단에 나타남\n",
        "\n",
        "<br>\n",
        "\n",
        "#### 5. fastai 라이브러리는 doc이라는 함수를 제공함. 'doc(함수 이름)'처럼 함수를 호출하면, 함수의 원형, 짧은 설명, 깃허브 소스 코드 링크, 해당 라이브러리를 다루는 문서의 웹사이트 주소 링크를 담은 창이 화면 하단에 나타남\n",
        "\n",
        "<br>\n",
        "\n",
        "#### 6. 문서 외에도 매우 유용한 기능이 있음. 에러 발생 시 에러가 발생한 셀에 '%debug'를 입력해 실행하면 파이썬 디버거가 열리며, 여기서 모든 변수의 내용을 확인할 수 있음\n"
      ],
      "metadata": {
        "id": "zAnFB7H_4bSg"
      }
    },
    {
      "cell_type": "code",
      "source": [],
      "metadata": {
        "id": "wVtbhxwI5oyQ"
      },
      "execution_count": null,
      "outputs": []
    }
  ]
}